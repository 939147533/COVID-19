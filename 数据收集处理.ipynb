{
 "cells": [
  {
   "cell_type": "code",
   "execution_count": 1,
   "metadata": {},
   "outputs": [],
   "source": [
    "import pandas as pd"
   ]
  },
  {
   "cell_type": "markdown",
   "metadata": {},
   "source": [
    "### 湖北省各市地理位置相邻关系"
   ]
  },
  {
   "cell_type": "code",
   "execution_count": 2,
   "metadata": {},
   "outputs": [],
   "source": [
    "write_csv = r'E:\\Document\\Notes\\DataAnalysis\\COVID-19\\湖北省各市相邻关系.csv'"
   ]
  },
  {
   "cell_type": "code",
   "execution_count": 3,
   "metadata": {},
   "outputs": [],
   "source": [
    "city_dicts = {\n",
    "    '武汉市':['孝感市', '黄冈市', '鄂州市', '黄石市', '咸宁市','仙桃市'],\n",
    "    '孝感市':['武汉市','仙桃市', '天门市', '荆门市', '随州市', '黄冈市'],\n",
    "    '黄冈市':['武汉市', '鄂州市', '黄石市'],\n",
    "    '荆州市':['潜江市','仙桃市', '咸宁市','宜昌市', '荆门市'],  \n",
    "    '鄂州市':['武汉市', '黄冈市', '黄石市'],\n",
    "    '随州市':['孝感市','荆门市', '襄阳市'],\n",
    "    '襄阳市':['随州市', '荆门市', '宜昌市', '神农架', '十堰市'],\n",
    "    '黄石市':['黄冈市', '鄂州市', '武汉市', '咸宁市'],\n",
    "    '宜昌市':['襄阳市', '荆门市', '荆州市', '恩施州', '神农架'],\n",
    "    '荆门市':['孝感市', '天门市', '潜江市', '荆州市','宜昌市', '襄阳市', '随州市'],\n",
    "    '咸宁市':['武汉市', '黄石市', '荆州市'],\n",
    "    '十堰市':['襄阳市', '神农架'],\n",
    "    '仙桃市':['武汉市', '荆州市', '潜江市', '天门市', '孝感市'],\n",
    "    '天门市':['孝感市', '仙桃市', '潜江市', '荆门市'],\n",
    "    '恩施州':['宜昌市', '神农架'],\n",
    "    '潜江市':['荆门市', '天门市', '仙桃市', '荆州市'],\n",
    "    '神农架':['十堰市', '襄阳市', '宜昌市', '恩施州'],   \n",
    "    }\n",
    "citys = [key for key in city_dicts.keys()]  "
   ]
  },
  {
   "cell_type": "code",
   "execution_count": 6,
   "metadata": {},
   "outputs": [],
   "source": [
    "df = pd.DataFrame(index=citys, columns=citys)"
   ]
  },
  {
   "cell_type": "code",
   "execution_count": 7,
   "metadata": {},
   "outputs": [],
   "source": [
    "for key, value in city_dicts.items():\n",
    "    for city in citys:\n",
    "        if city is  key:\n",
    "            continue\n",
    "        if city in value:\n",
    "            df.loc[[key], [city]] = 1\n",
    "        else:\n",
    "            df.loc[[key], [city]] = 0"
   ]
  },
  {
   "cell_type": "code",
   "execution_count": 8,
   "metadata": {},
   "outputs": [],
   "source": [
    "df.to_csv(write_csv, encoding=\"utf_8_sig\")"
   ]
  },
  {
   "cell_type": "markdown",
   "metadata": {},
   "source": [
    "### 湖北省各市新增确诊人数"
   ]
  },
  {
   "cell_type": "code",
   "execution_count": 9,
   "metadata": {},
   "outputs": [],
   "source": [
    "src_csv = r'E:\\Jupyter\\DataAnalysis\\Novel-Coronavirus-Updates-master\\Updates_NC.csv'\n",
    "dst_csv = r'E:\\Document\\Notes\\DataAnalysis\\COVID-19\\湖北省各市每日新增确诊人数.csv'"
   ]
  },
  {
   "cell_type": "code",
   "execution_count": 10,
   "metadata": {},
   "outputs": [
    {
     "data": {
      "text/html": [
       "<div>\n",
       "<style scoped>\n",
       "    .dataframe tbody tr th:only-of-type {\n",
       "        vertical-align: middle;\n",
       "    }\n",
       "\n",
       "    .dataframe tbody tr th {\n",
       "        vertical-align: top;\n",
       "    }\n",
       "\n",
       "    .dataframe thead th {\n",
       "        text-align: right;\n",
       "    }\n",
       "</style>\n",
       "<table border=\"1\" class=\"dataframe\">\n",
       "  <thead>\n",
       "    <tr style=\"text-align: right;\">\n",
       "      <th></th>\n",
       "      <th>报道时间</th>\n",
       "      <th>省份</th>\n",
       "      <th>城市</th>\n",
       "      <th>新增确诊</th>\n",
       "      <th>新增出院</th>\n",
       "      <th>新增死亡</th>\n",
       "      <th>消息来源</th>\n",
       "      <th>来源链接1</th>\n",
       "      <th>来源链接2</th>\n",
       "      <th>来源链接3</th>\n",
       "      <th>备注</th>\n",
       "    </tr>\n",
       "  </thead>\n",
       "  <tbody>\n",
       "    <tr>\n",
       "      <td>0</td>\n",
       "      <td>3月5日</td>\n",
       "      <td>北京</td>\n",
       "      <td>朝阳区</td>\n",
       "      <td>1.0</td>\n",
       "      <td>0.0</td>\n",
       "      <td>0.0</td>\n",
       "      <td>央视</td>\n",
       "      <td>http://m.news.cctv.com/2020/03/05/ARTINvrwVtTF...</td>\n",
       "      <td>NaN</td>\n",
       "      <td>NaN</td>\n",
       "      <td>NaN</td>\n",
       "    </tr>\n",
       "    <tr>\n",
       "      <td>1</td>\n",
       "      <td>3月5日</td>\n",
       "      <td>北京</td>\n",
       "      <td>地市明细不详</td>\n",
       "      <td>0.0</td>\n",
       "      <td>3.0</td>\n",
       "      <td>0.0</td>\n",
       "      <td>央视</td>\n",
       "      <td>http://m.news.cctv.com/2020/03/05/ARTINvrwVtTF...</td>\n",
       "      <td>NaN</td>\n",
       "      <td>NaN</td>\n",
       "      <td>NaN</td>\n",
       "    </tr>\n",
       "    <tr>\n",
       "      <td>2</td>\n",
       "      <td>3月5日</td>\n",
       "      <td>湖北</td>\n",
       "      <td>十堰市</td>\n",
       "      <td>0.0</td>\n",
       "      <td>1.0</td>\n",
       "      <td>0.0</td>\n",
       "      <td>央视</td>\n",
       "      <td>http://m.news.cctv.com/2020/03/05/ARTI5YRSwmnt...</td>\n",
       "      <td>NaN</td>\n",
       "      <td>NaN</td>\n",
       "      <td>NaN</td>\n",
       "    </tr>\n",
       "    <tr>\n",
       "      <td>3</td>\n",
       "      <td>3月5日</td>\n",
       "      <td>克罗地亚</td>\n",
       "      <td>NaN</td>\n",
       "      <td>1.0</td>\n",
       "      <td>0.0</td>\n",
       "      <td>0.0</td>\n",
       "      <td>央视</td>\n",
       "      <td>http://m.news.cctv.com/2020/03/04/ARTIvSgGCtAO...</td>\n",
       "      <td>NaN</td>\n",
       "      <td>NaN</td>\n",
       "      <td>NaN</td>\n",
       "    </tr>\n",
       "    <tr>\n",
       "      <td>4</td>\n",
       "      <td>3月5日</td>\n",
       "      <td>捷克</td>\n",
       "      <td>NaN</td>\n",
       "      <td>4.0</td>\n",
       "      <td>0.0</td>\n",
       "      <td>0.0</td>\n",
       "      <td>央视</td>\n",
       "      <td>http://m.news.cctv.com/2020/03/05/ARTIRLGo1lHQ...</td>\n",
       "      <td>NaN</td>\n",
       "      <td>NaN</td>\n",
       "      <td>按总数录入</td>\n",
       "    </tr>\n",
       "  </tbody>\n",
       "</table>\n",
       "</div>"
      ],
      "text/plain": [
       "   报道时间    省份      城市  新增确诊  新增出院  新增死亡 消息来源  \\\n",
       "0  3月5日    北京     朝阳区   1.0   0.0   0.0   央视   \n",
       "1  3月5日    北京  地市明细不详   0.0   3.0   0.0   央视   \n",
       "2  3月5日    湖北     十堰市   0.0   1.0   0.0   央视   \n",
       "3  3月5日  克罗地亚     NaN   1.0   0.0   0.0   央视   \n",
       "4  3月5日    捷克     NaN   4.0   0.0   0.0   央视   \n",
       "\n",
       "                                               来源链接1 来源链接2 来源链接3     备注  \n",
       "0  http://m.news.cctv.com/2020/03/05/ARTINvrwVtTF...   NaN   NaN    NaN  \n",
       "1  http://m.news.cctv.com/2020/03/05/ARTINvrwVtTF...   NaN   NaN    NaN  \n",
       "2  http://m.news.cctv.com/2020/03/05/ARTI5YRSwmnt...   NaN   NaN    NaN  \n",
       "3  http://m.news.cctv.com/2020/03/04/ARTIvSgGCtAO...   NaN   NaN    NaN  \n",
       "4  http://m.news.cctv.com/2020/03/05/ARTIRLGo1lHQ...   NaN   NaN  按总数录入  "
      ]
     },
     "execution_count": 10,
     "metadata": {},
     "output_type": "execute_result"
    }
   ],
   "source": [
    "df = pd.read_csv(src_csv)\n",
    "df.head()"
   ]
  },
  {
   "cell_type": "code",
   "execution_count": 11,
   "metadata": {},
   "outputs": [],
   "source": [
    "df_hubei = df[df['省份'] == '湖北']"
   ]
  },
  {
   "cell_type": "code",
   "execution_count": 12,
   "metadata": {},
   "outputs": [],
   "source": [
    "dates = list({}.fromkeys(df_hubei['报道时间'].values))\n",
    "dates.reverse()"
   ]
  },
  {
   "cell_type": "code",
   "execution_count": 13,
   "metadata": {},
   "outputs": [],
   "source": [
    "new_df = pd.DataFrame(index=dates, columns=citys)"
   ]
  },
  {
   "cell_type": "code",
   "execution_count": 14,
   "metadata": {},
   "outputs": [],
   "source": [
    "for date in dates:\n",
    "    df_day = df[df['报道时间'] == date]\n",
    "    city_day = df_day['城市'].values\n",
    "    for city in citys:\n",
    "        if city in city_day:\n",
    "            num = df_day[df_day['城市'] == city]['新增确诊'].values.sum()\n",
    "        else:\n",
    "            num = 0\n",
    "        new_df.loc[[date], [city]] = num"
   ]
  },
  {
   "cell_type": "code",
   "execution_count": 15,
   "metadata": {},
   "outputs": [],
   "source": [
    "new_df.to_csv(dst_csv, encoding=\"utf_8_sig\")"
   ]
  },
  {
   "cell_type": "code",
   "execution_count": null,
   "metadata": {},
   "outputs": [],
   "source": []
  }
 ],
 "metadata": {
  "kernelspec": {
   "display_name": "Python 3",
   "language": "python",
   "name": "python3"
  },
  "language_info": {
   "codemirror_mode": {
    "name": "ipython",
    "version": 3
   },
   "file_extension": ".py",
   "mimetype": "text/x-python",
   "name": "python",
   "nbconvert_exporter": "python",
   "pygments_lexer": "ipython3",
   "version": "3.7.4"
  }
 },
 "nbformat": 4,
 "nbformat_minor": 2
}
